{
 "cells": [
  {
   "cell_type": "code",
   "execution_count": 1,
   "id": "82cee721",
   "metadata": {},
   "outputs": [],
   "source": [
    "import torch"
   ]
  },
  {
   "cell_type": "markdown",
   "id": "9b2ded14",
   "metadata": {},
   "source": [
    "Siglip 2 - https://arxiv.org/pdf/2502.14786  : 2025 ppr\n",
    "\n",
    "Siglip- https://arxiv.org/pdf/2303.15343\n",
    "\n",
    "Clip ; https://arxiv.org/pdf/2103.00020\n"
   ]
  },
  {
   "cell_type": "code",
   "execution_count": 3,
   "id": "acdeabdb",
   "metadata": {},
   "outputs": [
    {
     "name": "stdout",
     "output_type": "stream",
     "text": [
      "Using CUDA device: NVIDIA GeForce RTX 3050 Laptop GPU\n",
      "Device: cuda\n"
     ]
    }
   ],
   "source": [
    "# Check if CUDA is available and set the device accordingly\n",
    "if torch.cuda.is_available():\n",
    "    cuda_available = True\n",
    "    devun = torch.device(\"cuda\")\n",
    "    devices = f\"CUDA available: {torch.cuda.get_device_name(0)}\"\n",
    "    devices_list = [torch.cuda.get_device_name(i) for i in range(torch.cuda.device_count())]\n",
    "    print(f\"Using CUDA device: {torch.cuda.get_device_name(0)}\")\n",
    "else:\n",
    "    print(\"CUDA is not available, continuing with CPU\")\n",
    "    \n",
    "print(f\"Device: {devun}\")"
   ]
  },
  {
   "cell_type": "code",
   "execution_count": null,
   "id": "0df4be6c",
   "metadata": {},
   "outputs": [],
   "source": []
  }
 ],
 "metadata": {
  "kernelspec": {
   "display_name": "myenvt",
   "language": "python",
   "name": "python3"
  },
  "language_info": {
   "codemirror_mode": {
    "name": "ipython",
    "version": 3
   },
   "file_extension": ".py",
   "mimetype": "text/x-python",
   "name": "python",
   "nbconvert_exporter": "python",
   "pygments_lexer": "ipython3",
   "version": "3.12.7"
  }
 },
 "nbformat": 4,
 "nbformat_minor": 5
}
