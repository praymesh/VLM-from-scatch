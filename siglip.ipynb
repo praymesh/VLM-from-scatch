{
 "cells": [
  {
   "cell_type": "code",
   "execution_count": null,
   "id": "82cee721",
   "metadata": {},
   "outputs": [],
   "source": [
    "import torch\n",
    "import torch.nn as nn\n",
    "import torch.nn.functional as F\n",
    "from typing import Optional, Tuple\n"
   ]
  },
  {
   "cell_type": "markdown",
   "id": "9b2ded14",
   "metadata": {},
   "source": [
    "Siglip 2 - https://arxiv.org/pdf/2502.14786  : 2025 ppr\n",
    "\n",
    "Siglip- https://arxiv.org/pdf/2303.15343  : Uses Sigmoid loss \n",
    "\n",
    "Clip ; https://arxiv.org/pdf/2103.00020 Uses cross entropy loss, cant parrelize \n",
    "\n"
   ]
  },
  {
   "cell_type": "code",
   "execution_count": 3,
   "id": "acdeabdb",
   "metadata": {},
   "outputs": [
    {
     "name": "stdout",
     "output_type": "stream",
     "text": [
      "Using CUDA device: NVIDIA GeForce RTX 3050 Laptop GPU\n",
      "Device: cuda\n"
     ]
    }
   ],
   "source": [
    "# Check if CUDA is available and set the device accordingly\n",
    "if torch.cuda.is_available():\n",
    "    cuda_available = True\n",
    "    devun = torch.device(\"cuda\")\n",
    "    devices = f\"CUDA available: {torch.cuda.get_device_name(0)}\"\n",
    "    devices_list = [torch.cuda.get_device_name(i) for i in range(torch.cuda.device_count())]\n",
    "    print(f\"Using CUDA device: {torch.cuda.get_device_name(0)}\")\n",
    "else:\n",
    "    print(\"CUDA is not available, continuing with CPU\")\n",
    "    \n",
    "print(f\"Device: {devun}\")"
   ]
  },
  {
   "cell_type": "code",
   "execution_count": null,
   "id": "0df4be6c",
   "metadata": {},
   "outputs": [],
   "source": [
    "class Siglip_vision_config:\n",
    "    def __init__(\n",
    "        self,\n",
    "        hidden_size=768,\n",
    "        intermediate_size=3072,\n",
    "        num_attention_heads=12,\n",
    "        num_hidden_layers=12,\n",
    "        num_channels=3,\n",
    "        image_size=224,\n",
    "        patch_size=16,\n",
    "        layer_norm_eps=1e-6,\n",
    "        attention_probs_dropout_prob=0.0,\n",
    "        num_image_tokens: int = None,\n",
    "        **kwargs\n",
    "        ):\n",
    "        self.hidden_size = hidden_size\n",
    "        self.intermediate_size = intermediate_size\n",
    "        self.num_attention_heads = num_attention_heads\n",
    "        self.num_hidden_layers = num_hidden_layers\n",
    "        self.num_channels = num_channels\n",
    "        self.image_size = image_size\n",
    "        self.patch_size = patch_size\n",
    "        self.layer_norm_eps = layer_norm_eps\n",
    "        self.attention_probs_dropout_prob = attention_probs_dropout_prob\n",
    "        self.num_image_tokens = num_image_tokens #if num_image_tokens is not None else (image_size // patch_size) ** 2\n",
    "\n",
    "\n",
    "    "
   ]
  },
  {
   "cell_type": "markdown",
   "id": "4b806023",
   "metadata": {},
   "source": [
    "Embeddings and Patch Extraction through convolution\n"
   ]
  },
  {
   "cell_type": "code",
   "execution_count": null,
   "id": "59a210ab",
   "metadata": {},
   "outputs": [],
   "source": [
    "class SiglipVisionEmbeddings(nn.Module):\n",
    "    def __init__(self, config: Siglip_vision_config):\n",
    "        super().__init__()\n",
    "        self.config = config\n",
    "        self.embedding_size = config.hidden_size\n",
    "        self.image_size = config.image_size\n",
    "        self.patch_size = config.patch_size\n",
    "        self.num_channels = config.num_channels\n",
    "        #extracting patches from the image, through convolution\n",
    "        # The patch size is the size of the square patches to be extracted from the image\n",
    "        # The embedding size is the size of the output feature vector for each patch\n",
    "        self.patch_embeddings = nn.Conv2d(     \n",
    "            in_channels=self.num_channels,\n",
    "            out_channels=self.embedding_size,\n",
    "            kernel_size=self.patch_size,\n",
    "            stride=self.patch_size,\n",
    "            padding=\"valid\", # No padding \n",
    "        )\n",
    "        \n",
    "        self.num_patches = (self.image_size // self.patch_size) ** 2\n",
    "        self.num_positions = self.num_patches \n",
    "        self.position_embeddings = nn.Embedding( self.num_positions, self.embedding_size)\n",
    "        self.register_buffer( # This buffer is not a parameter, but it will be part of the model's state_dict\n",
    "            \"position_ids\", \n",
    "            torch.arange(self.num_positions).expand((1, -1))\n",
    "            persistent=False # This buffer will not be saved in the model's state_dict\n",
    "            )\n",
    "        \n",
    "        \n",
    "        \n",
    "            \n",
    "        "
   ]
  },
  {
   "cell_type": "markdown",
   "id": "6b52210b",
   "metadata": {},
   "source": [
    "## SIGLIP_TRANSFORMER:\n",
    "\n",
    "### Embeddings\n",
    "\n",
    "### Encoder\n",
    "### LayerNorm\n",
    "big change in input -> big change in output -> Significant change in loss -> big change in gradient -> big change in weights -> network learns slowly\n",
    "Thus normalising the layers is important"
   ]
  },
  {
   "cell_type": "code",
   "execution_count": null,
   "id": "dae309b4",
   "metadata": {},
   "outputs": [],
   "source": []
  },
  {
   "cell_type": "code",
   "execution_count": null,
   "id": "9f1c4535",
   "metadata": {},
   "outputs": [],
   "source": [
    "class Siglip_vision_transformer(nn.Module):\n",
    "    def __init__(self, config: Siglip_vision_config): \n",
    "        super().__init__()\n",
    "        self.config = config\n",
    "        embed_dim = config.hidden_size\n",
    "        self.embeddings = SiglipVisionEmbeddings(config)\n",
    "        self.encoder = SiglipVisionEncoder(config)\n",
    "        self.post_layernorm = nn.LayerNorm(embed_dim, eps=config.layer_norm_eps)\n",
    "         \n",
    "        \n",
    "        "
   ]
  },
  {
   "cell_type": "code",
   "execution_count": null,
   "id": "02361068",
   "metadata": {},
   "outputs": [],
   "source": [
    "class SigLIPVisionModel(nn.Module):\n",
    "    def __init__(self, config: Siglip_vision_config):\n",
    "        super()().__init__()\n",
    "        self.config = config\n",
    "        self.vision_model = Siglip_vision_transformer(config)\n",
    "        "
   ]
  },
  {
   "cell_type": "markdown",
   "id": "818726f7",
   "metadata": {},
   "source": [
    "Forward Propagrationn\n"
   ]
  },
  {
   "cell_type": "code",
   "execution_count": null,
   "id": "dcbfcf75",
   "metadata": {},
   "outputs": [
    {
     "ename": "NameError",
     "evalue": "name 'torch' is not defined",
     "output_type": "error",
     "traceback": [
      "\u001b[1;31m---------------------------------------------------------------------------\u001b[0m",
      "\u001b[1;31mNameError\u001b[0m                                 Traceback (most recent call last)",
      "Cell \u001b[1;32mIn[1], line 1\u001b[0m\n\u001b[1;32m----> 1\u001b[0m \u001b[38;5;28;01mdef\u001b[39;00m \u001b[38;5;21mforward\u001b[39m(\u001b[38;5;28mself\u001b[39m, pixel_values : \u001b[43mtorch\u001b[49m\u001b[38;5;241m.\u001b[39mFloatTensor) \u001b[38;5;241m-\u001b[39m\u001b[38;5;241m>\u001b[39m torch\u001b[38;5;241m.\u001b[39mTensor:\n\u001b[0;32m      2\u001b[0m      _, _, height, width \u001b[38;5;241m=\u001b[39m pixel_values\u001b[38;5;241m.\u001b[39mshape \u001b[38;5;66;03m#Batch size, number of channels, height, width\u001b[39;00m\n\u001b[0;32m      4\u001b[0m     \u001b[38;5;66;03m#we need to convolve the image to get the patches, i.e the \"patch_size\"\u001b[39;00m\n",
      "\u001b[1;31mNameError\u001b[0m: name 'torch' is not defined"
     ]
    }
   ],
   "source": [
    "def forward(self, pixel_values : torch.FloatTensor) -> torch.Tensor:\n",
    "     _, _, height, width = pixel_values.shape #Batch size, number of channels, height, width\n",
    "     \n",
    "    #we need to convolve the image to get the patches, i.e the \"patch_size\"\n",
    "     patch_embeds= self.patch_embeddings(pixel_values)\n",
    "      # (batch_size, embedding_size, height, width)\n",
    "    \n",
    "    # Now, we need to Reshape the patch embeddings to (batch_size, num_patches, embedding_size)\n",
    "     embeddings = patch_embeds.flatten(2).transpose(1, 2) # (batch_size, num_patches, embedding_size)\n",
    "     \n",
    "    #addings positional embeddings\n",
    "    # The position_ids are the indices of the patches in the flattened tensor, these are learned embeddings\n",
    "    # The position embeddings are added to the patch embeddings to give each patch a unique position in the sequence\n",
    "     embeddings = embeddings + self.position_embeddings(self.position_ids)  \n",
    "     #[batch_size, num_patches, embedding_size]\n",
    "    # The embeddings are then passed through the encoder, which applies self-attention and feed-forward layers\n",
    "     \n",
    "   # return self.vision_model(pixel_values=pixel_values)"
   ]
  },
  {
   "cell_type": "code",
   "execution_count": null,
   "id": "580107c2",
   "metadata": {},
   "outputs": [],
   "source": [
    "\n"
   ]
  }
 ],
 "metadata": {
  "kernelspec": {
   "display_name": "myenvt",
   "language": "python",
   "name": "python3"
  },
  "language_info": {
   "codemirror_mode": {
    "name": "ipython",
    "version": 3
   },
   "file_extension": ".py",
   "mimetype": "text/x-python",
   "name": "python",
   "nbconvert_exporter": "python",
   "pygments_lexer": "ipython3",
   "version": "3.12.7"
  }
 },
 "nbformat": 4,
 "nbformat_minor": 5
}
