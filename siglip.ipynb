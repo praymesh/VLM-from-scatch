{
 "cells": [
  {
   "cell_type": "code",
   "execution_count": 1,
   "id": "82cee721",
   "metadata": {},
   "outputs": [],
   "source": [
    "import torch\n",
    "import torch.nn as nn\n",
    "import torch.nn.functional as F\n",
    "from typing import Optional, Tuple"
   ]
  },
  {
   "cell_type": "markdown",
   "id": "9b2ded14",
   "metadata": {},
   "source": [
    "Siglip 2 - https://arxiv.org/pdf/2502.14786  : 2025 ppr\n",
    "\n",
    "Siglip- https://arxiv.org/pdf/2303.15343\n",
    "\n",
    "Clip ; https://arxiv.org/pdf/2103.00020\n"
   ]
  },
  {
   "cell_type": "code",
   "execution_count": 3,
   "id": "acdeabdb",
   "metadata": {},
   "outputs": [
    {
     "name": "stdout",
     "output_type": "stream",
     "text": [
      "Using CUDA device: NVIDIA GeForce RTX 3050 Laptop GPU\n",
      "Device: cuda\n"
     ]
    }
   ],
   "source": [
    "# Check if CUDA is available and set the device accordingly\n",
    "if torch.cuda.is_available():\n",
    "    cuda_available = True\n",
    "    devun = torch.device(\"cuda\")\n",
    "    devices = f\"CUDA available: {torch.cuda.get_device_name(0)}\"\n",
    "    devices_list = [torch.cuda.get_device_name(i) for i in range(torch.cuda.device_count())]\n",
    "    print(f\"Using CUDA device: {torch.cuda.get_device_name(0)}\")\n",
    "else:\n",
    "    print(\"CUDA is not available, continuing with CPU\")\n",
    "    \n",
    "print(f\"Device: {devun}\")"
   ]
  },
  {
   "cell_type": "code",
   "execution_count": null,
   "id": "0df4be6c",
   "metadata": {},
   "outputs": [],
   "source": [
    "class Siglip_vision_config:\n",
    "    def __init__(\n",
    "        self,\n",
    "        hidden_size=768,\n",
    "        intermediate_size=3072,\n",
    "        num_attention_heads=12,\n",
    "        num_hidden_layers=12,\n",
    "        num_channels=3,\n",
    "        image_size=224,\n",
    "        patch_size=16,\n",
    "        layer_norm_eps=1e-6,\n",
    "        attention_probs_dropout_prob=0.0,\n",
    "        num_image_tokens: int = None,\n",
    "        **kwargs\n",
    "        ):\n",
    "        self.hidden_size = hidden_size\n",
    "        self.intermediate_size = intermediate_size\n",
    "        self.num_attention_heads = num_attention_heads\n",
    "        self.num_hidden_layers = num_hidden_layers\n",
    "        self.num_channels = num_channels\n",
    "        self.image_size = image_size\n",
    "        self.patch_size = patch_size\n",
    "        self.layer_norm_eps = layer_norm_eps\n",
    "        self.attention_probs_dropout_prob = attention_probs_dropout_prob\n",
    "        self.num_image_tokens = num_image_tokens #if num_image_tokens is not None else (image_size // patch_size) ** 2\n",
    "\n",
    "\n",
    "    "
   ]
  },
  {
   "cell_type": "code",
   "execution_count": null,
   "id": "9f1c4535",
   "metadata": {},
   "outputs": [],
   "source": [
    "class Siglip_vision_transformer()"
   ]
  },
  {
   "cell_type": "code",
   "execution_count": null,
   "id": "02361068",
   "metadata": {},
   "outputs": [],
   "source": [
    "class SigLIPVisionModel(nn.Module):\n",
    "    def __init__(self, config: Siglip_vision_config):\n",
    "        super()().__init__()\n",
    "        self.config = config\n",
    "        self.vision_model = Siglip_vision_transformer(config)\n",
    "        "
   ]
  },
  {
   "cell_type": "code",
   "execution_count": null,
   "id": "dcbfcf75",
   "metadata": {},
   "outputs": [],
   "source": [
    "def forward(self, pixel_values) -> Tuple:\n",
    "    return self.vision_model(pixel_values=pixel_values)"
   ]
  }
 ],
 "metadata": {
  "kernelspec": {
   "display_name": "myenvt",
   "language": "python",
   "name": "python3"
  },
  "language_info": {
   "codemirror_mode": {
    "name": "ipython",
    "version": 3
   },
   "file_extension": ".py",
   "mimetype": "text/x-python",
   "name": "python",
   "nbconvert_exporter": "python",
   "pygments_lexer": "ipython3",
   "version": "3.12.7"
  }
 },
 "nbformat": 4,
 "nbformat_minor": 5
}
