{
 "cells": [
  {
   "cell_type": "markdown",
   "id": "e51dc13a",
   "metadata": {},
   "source": [
    "#### SUMMARY: \n",
    "\n",
    "This file defines a PaliGemma_Processor that:\n",
    "\n",
    "Prepares image/images + text for the model.\n",
    "\n",
    "Handles resizing, normalizing, and converting images into tensors.\n",
    "\n",
    "Adds special image tokens to the text input.\n",
    "\n",
    "Tokenizes the prompt correctly so it aligns with how the model was trained.//\n",
    "\n"
   ]
  },
  {
   "cell_type": "code",
   "execution_count": null,
   "id": "c5717079",
   "metadata": {},
   "outputs": [],
   "source": [
    "#constants for further use \n",
    "IMAGENET_STANDARD_MEAN = [0.5, 0.5, 0.5]\n",
    "IMAGENET_STANDARD_STD = [0.5, 0.5, 0.5]\n"
   ]
  },
  {
   "cell_type": "code",
   "execution_count": null,
   "id": "4aa88e0a",
   "metadata": {},
   "outputs": [],
   "source": []
  },
  {
   "cell_type": "code",
   "execution_count": null,
   "id": "dc066e52",
   "metadata": {},
   "outputs": [],
   "source": [
    "def call(\n",
    "    self,\n",
    "    text : List[str],\n",
    "    images : List[Image.Image],\n",
    "    padding : str = \"Longest\",\n",
    "    \n",
    ")"
   ]
  }
 ],
 "metadata": {
  "language_info": {
   "name": "python"
  }
 },
 "nbformat": 4,
 "nbformat_minor": 5
}
