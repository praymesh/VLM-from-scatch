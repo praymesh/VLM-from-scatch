{
 "cells": [
  {
   "cell_type": "markdown",
   "id": "e51dc13a",
   "metadata": {},
   "source": [
    "#### SUMMARY: \n",
    "\n",
    "This file defines a PaliGemma_Processor that:\n",
    "\n",
    "Prepares image/images + text for the model.\n",
    "\n",
    "Handles resizing, normalizing, and converting images into tensors.\n",
    "\n",
    "Adds special image tokens to the text input.\n",
    "\n",
    "Tokenizes the prompt correctly so it aligns with how the model was trained.//\n",
    "\n"
   ]
  },
  {
   "cell_type": "code",
   "execution_count": null,
   "id": "c5717079",
   "metadata": {},
   "outputs": [],
   "source": [
    "#constants for further use \n",
    "IMAGENET_STANDARD_MEAN = [0.5, 0.5, 0.5]\n",
    "IMAGENET_STANDARD_STD = [0.5, 0.5, 0.5]\n"
   ]
  },
  {
   "cell_type": "code",
   "execution_count": null,
   "id": "4aa88e0a",
   "metadata": {},
   "outputs": [],
   "source": [
    "class Config:\n",
    "    def __init__(self):\n",
    "        # Model parameters\n",
    "        self.model_name = 'resnet50'\n",
    "        self.num_classes = 1000\n",
    "        self.input_size = (224, 224)\n",
    "        self.pretrained = True\n",
    "\n",
    "        # Training parameters\n",
    "        self.batch_size = 32\n",
    "        self.num_epochs = 10\n",
    "        self.learning_rate = 0.001\n",
    "        self.momentum = 0.9\n",
    "        self.weight_decay = 1e-4\n",
    "\n",
    "        # Data augmentation parameters\n",
    "        self.data_augmentation = True\n",
    "        self.random_crop_size = (224, 224)\n",
    "        self.random_flip = True"
   ]
  },
  {
   "cell_type": "code",
   "execution_count": null,
   "id": "dc066e52",
   "metadata": {},
   "outputs": [],
   "source": [
    "def call(\n",
    "    self,\n",
    "    text : List[str],\n",
    "    images : List[Image.Image],\n",
    "    padding : str = \"Longest\",\n",
    "    p\n",
    "    \n",
    ")"
   ]
  }
 ],
 "metadata": {
  "language_info": {
   "name": "python"
  }
 },
 "nbformat": 4,
 "nbformat_minor": 5
}
